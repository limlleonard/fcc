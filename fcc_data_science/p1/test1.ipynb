{
 "cells": [
  {
   "cell_type": "code",
   "execution_count": 54,
   "metadata": {},
   "outputs": [],
   "source": [
    "def arithmetic_arranger(problems:list, ans=False)->str:\n",
    "  l1=l2=l3=l4='' #four lines of answers\n",
    "  if len(problems)>5: return 'Error: Too many problems.'\n",
    "  for ques in problems:\n",
    "    if not ('+' in ques or '-' in ques) or ('*' in ques or '/' in ques):\n",
    "      return \"Error: Operator must be '+' or '-'.\"\n",
    "\n",
    "    pm='+' if '+' in ques else '-' #plus oder minus\n",
    "    nr1, nr2=ques.split(pm)\n",
    "    nr1, nr2=nr1.strip(), nr2.strip()\n",
    "    ll=max(len(nr1), len(nr2)) # length of longer number\n",
    "    for nr_lp in [nr1, nr2]:\n",
    "      if not nr_lp.isdigit(): return \"Error: Numbers must only contain digits.\"\n",
    "    if ll>4: return \"Error: Numbers cannot be more than four digits.\"\n",
    "\n",
    "    l1+=' '*(ll-len(nr1)+2+4) + nr1 #add 4 spaces also to the to the first number and remove them by the end\n",
    "    l2+=' '*4 + pm + ' '*(ll-len(nr2)+1) + nr2\n",
    "    l3+=' '*4 + '-'*(ll+2)\n",
    "    ans_lp=int(nr1)+int(nr2) if pm=='+' else int(nr1)-int(nr2)\n",
    "    l4+=' '*(ll-len(str(ans_lp))+2+4) + str(ans_lp)\n",
    "\n",
    "  l1=l1[4:]+'\\n'\n",
    "  l2=l2[4:]+'\\n'\n",
    "  l3=l3[4:]\n",
    "  l4='\\n'+l4[4:]\n",
    "\n",
    "  arranged_problems=l1+l2+l3\n",
    "  if ans: arranged_problems+=l4\n",
    "  return arranged_problems"
   ]
  },
  {
   "cell_type": "code",
   "execution_count": 55,
   "metadata": {},
   "outputs": [
    {
     "name": "stdout",
     "output_type": "stream",
     "text": [
      "   32         1      45      123      988\n",
      "- 698    - 3801    + 43     + 49     + 40\n",
      "-----    ------    ----    -----    -----\n",
      " -666     -3800      88      172     1028\n",
      "\n"
     ]
    }
   ],
   "source": [
    "t1=['32 - 698', '1 - 3801', '45 + 43', '123 + 49', '988 + 40']\n",
    "print(arithmetic_arranger(t1))"
   ]
  },
  {
   "cell_type": "code",
   "execution_count": null,
   "metadata": {},
   "outputs": [],
   "source": [
    "'  3801      123\\n-   2    + 49\\n------    -----'\n",
    "'  3801      123\\n-    2    +  49\\n------    -----'"
   ]
  }
 ],
 "metadata": {
  "kernelspec": {
   "display_name": "venv_kmeans",
   "language": "python",
   "name": "python3"
  },
  "language_info": {
   "codemirror_mode": {
    "name": "ipython",
    "version": 3
   },
   "file_extension": ".py",
   "mimetype": "text/x-python",
   "name": "python",
   "nbconvert_exporter": "python",
   "pygments_lexer": "ipython3",
   "version": "3.10.6"
  },
  "orig_nbformat": 4
 },
 "nbformat": 4,
 "nbformat_minor": 2
}

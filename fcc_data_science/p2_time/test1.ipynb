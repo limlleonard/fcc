{
 "cells": [
  {
   "cell_type": "code",
   "execution_count": 3,
   "metadata": {},
   "outputs": [],
   "source": [
    "def add_time(start, duration, w1=''):\n",
    "  lst_w=['monday', 'tuesday', 'wednesday', 'thursday', 'friday', 'saturday', 'sunday']\n",
    "  t0, ap=start.split()\n",
    "  h0, m0=t0.split(':')\n",
    "  h1, m1=duration.split(':')\n",
    "  h2=int(h0)+int(h1)\n",
    "  m2=int(m0)+int(m1)\n",
    "  if m2>60: # one whole hour from minutes\n",
    "    m2-=60\n",
    "    h2+=1\n",
    "  day=h2//24\n",
    "  h2=h2%24\n",
    "  if h2>=12:\n",
    "    if ap=='PM':\n",
    "      day+=1\n",
    "      ap='AM'\n",
    "    else:\n",
    "      ap='PM'\n",
    "    if h2>12:\n",
    "      h2-=12\n",
    "  \n",
    "  new_time=f'{h2}:{\"{:02}\".format(m2)} {ap}'\n",
    "  if w1:\n",
    "    ind_w=lst_w.index(w1.lower())\n",
    "    ind_w=(ind_w+day)%7\n",
    "    new_time+=f', {lst_w[ind_w].capitalize()}'\n",
    "  if day==1: new_time+=' (next day)'\n",
    "  elif day>1: new_time+=f' ({day} days later)'\n",
    "\n",
    "  return new_time"
   ]
  }
 ],
 "metadata": {
  "kernelspec": {
   "display_name": "venv_kmeans",
   "language": "python",
   "name": "python3"
  },
  "language_info": {
   "codemirror_mode": {
    "name": "ipython",
    "version": 3
   },
   "file_extension": ".py",
   "mimetype": "text/x-python",
   "name": "python",
   "nbconvert_exporter": "python",
   "pygments_lexer": "ipython3",
   "version": "3.10.6"
  },
  "orig_nbformat": 4
 },
 "nbformat": 4,
 "nbformat_minor": 2
}

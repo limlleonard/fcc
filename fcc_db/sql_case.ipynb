{
 "cells": [
  {
   "cell_type": "code",
   "execution_count": 1,
   "metadata": {},
   "outputs": [],
   "source": [
    "import os"
   ]
  },
  {
   "cell_type": "code",
   "execution_count": 40,
   "metadata": {},
   "outputs": [],
   "source": [
    "lst_sql=['create', 'table','alter','add','column','serial','primary key','varchar','unique','boolean','not null','default','insert into','values','select','from','where']\n",
    "\n",
    "for dt1 in os.listdir(dir1):\n",
    "  if dt1[-3:]=='txt':\n",
    "    # os.rename(dt1, dt1[:-2]+'txt')\n",
    "    with open(dt1, \"r\") as f1:\n",
    "      t1=f1.read()\n",
    "    # print(t1)\n",
    "    for sql in lst_sql:\n",
    "      t1=t1.replace(sql, sql.upper())\n",
    "    with open(dt1, 'w') as f2:\n",
    "      f2.write(t1)"
   ]
  }
 ],
 "metadata": {
  "kernelspec": {
   "display_name": "venv_kmeans",
   "language": "python",
   "name": "python3"
  },
  "language_info": {
   "codemirror_mode": {
    "name": "ipython",
    "version": 3
   },
   "file_extension": ".py",
   "mimetype": "text/x-python",
   "name": "python",
   "nbconvert_exporter": "python",
   "pygments_lexer": "ipython3",
   "version": "3.10.6"
  },
  "orig_nbformat": 4
 },
 "nbformat": 4,
 "nbformat_minor": 2
}
